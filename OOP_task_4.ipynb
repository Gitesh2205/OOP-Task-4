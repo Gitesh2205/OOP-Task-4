{
  "nbformat": 4,
  "nbformat_minor": 0,
  "metadata": {
    "colab": {
      "name": "OOP task 4.ipynb",
      "provenance": [],
      "authorship_tag": "ABX9TyMItH7j5pJqpMcVjfBjigCe",
      "include_colab_link": true
    },
    "kernelspec": {
      "name": "python3",
      "display_name": "Python 3"
    },
    "language_info": {
      "name": "python"
    }
  },
  "cells": [
    {
      "cell_type": "markdown",
      "metadata": {
        "id": "view-in-github",
        "colab_type": "text"
      },
      "source": [
        "<a href=\"https://colab.research.google.com/github/Gitesh2205/OOP-Task-4/blob/main/OOP_task_4.ipynb\" target=\"_parent\"><img src=\"https://colab.research.google.com/assets/colab-badge.svg\" alt=\"Open In Colab\"/></a>"
      ]
    },
    {
      "cell_type": "code",
      "metadata": {
        "id": "5WMHODTEFLkt"
      },
      "source": [
        ""
      ],
      "execution_count": null,
      "outputs": []
    },
    {
      "cell_type": "code",
      "metadata": {
        "colab": {
          "base_uri": "https://localhost:8080/"
        },
        "id": "ui3kIJ1HEufA",
        "outputId": "9eda87af-37b9-4cce-f16a-1b6a57079f62"
      },
      "source": [
        "#Q.no.2 Program to find area of traingle.\n",
        "class sides:\n",
        "    def __init__(self,a, b, c):\n",
        "        self.a = a\n",
        "        self.b = b\n",
        "        self.c = c\n",
        "class A(sides):\n",
        "    def area(self):\n",
        "        s = (self.a + self.b + self.c)/2\n",
        "        return (s*(s-self.a)*(s-self.b)*(s-self.c)) ** 0.5\n",
        "obj = A(10,12,14)\n",
        "print(\"Area of triangle : {}\".format(obj.area()))"
      ],
      "execution_count": 13,
      "outputs": [
        {
          "output_type": "stream",
          "name": "stdout",
          "text": [
            "Area of triangle : 58.787753826796276\n"
          ]
        }
      ]
    },
    {
      "cell_type": "code",
      "metadata": {
        "colab": {
          "base_uri": "https://localhost:8080/"
        },
        "id": "N-OumV2tFDHb",
        "outputId": "f082235c-c8e8-4776-c4ea-7fe9effd5070"
      },
      "source": [
        "#Q.no.3 \n",
        "class Queue:\n",
        "\t    def __init__(self):\n",
        "\t        self.items = []\n",
        "\t\n",
        "\t    def isEmpty(self):\n",
        "\t        return self.items == []\n",
        "\t\n",
        "\t    def enqueue(self, item):\n",
        "\t        self.items.insert(0,item)\n",
        "\t\n",
        "\t    def dequeue(self):\n",
        "\t        return self.items.pop()\n",
        "\t\n",
        "\t    def size(self):\n",
        "\t        return len(self.items)\n",
        "\t\n",
        "q=Queue()\n",
        "q.enqueue(4)\n",
        "q.enqueue('dog')\n",
        "q.enqueue(True)\n",
        "print(q.size())"
      ],
      "execution_count": 17,
      "outputs": [
        {
          "output_type": "stream",
          "name": "stdout",
          "text": [
            "3\n"
          ]
        }
      ]
    },
    {
      "cell_type": "code",
      "metadata": {
        "id": "loMHTdBtfc2h"
      },
      "source": [
        ""
      ],
      "execution_count": null,
      "outputs": []
    }
  ]
}